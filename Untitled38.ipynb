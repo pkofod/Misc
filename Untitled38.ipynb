{
 "cells": [
  {
   "cell_type": "code",
   "execution_count": 34,
   "metadata": {},
   "outputs": [],
   "source": [
    "using Optim"
   ]
  },
  {
   "cell_type": "code",
   "execution_count": 35,
   "metadata": {},
   "outputs": [],
   "source": [
    "using OptimTestProblems"
   ]
  },
  {
   "cell_type": "code",
   "execution_count": 36,
   "metadata": {},
   "outputs": [
    {
     "data": {
      "text/plain": [
       "OptimTestProblems.MultivariateProblems.UnconstrainedProblems"
      ]
     },
     "execution_count": 36,
     "metadata": {},
     "output_type": "execute_result"
    }
   ],
   "source": [
    "UP = OptimTestProblems.UnconstrainedProblems"
   ]
  },
  {
   "cell_type": "code",
   "execution_count": 43,
   "metadata": {},
   "outputs": [
    {
     "data": {
      "text/plain": [
       "x_opt (generic function with 1 method)"
      ]
     },
     "execution_count": 43,
     "metadata": {},
     "output_type": "execute_result"
    }
   ],
   "source": [
    "prob = UP.examples[\"Himmelblau\"]\n",
    "f_opt(x) = Optim.minimum(optimize(prob.f, prob.g!, x, BFGS()))\n",
    "x_opt(x) = Optim.minimizer(optimize(prob.f, prob.g!, x, BFGS()))"
   ]
  },
  {
   "cell_type": "code",
   "execution_count": 48,
   "metadata": {},
   "outputs": [
    {
     "name": "stdout",
     "output_type": "stream",
     "text": [
      "Iter     Function value   Gradient norm \n",
      "     1     2.929628e-20              NaN\n",
      "     2     1.143848e-28              NaN\n",
      "     3     1.143848e-28              NaN\n",
      "     4     1.143848e-28              NaN\n",
      "     5     1.143848e-28              NaN\n",
      "     6     1.143848e-28              NaN\n",
      "     7     1.143848e-28              NaN\n",
      "     8     1.143848e-28              NaN\n",
      "     9     1.143848e-28              NaN\n",
      "    10     1.143848e-28              NaN\n",
      "    11     1.143848e-28              NaN\n",
      "    12     1.143848e-28              NaN\n",
      "    13     1.143848e-28              NaN\n",
      "    14     1.143848e-28              NaN\n",
      "    15     3.155444e-30              NaN\n",
      "    16     3.155444e-30              NaN\n",
      "    17     3.155444e-30              NaN\n",
      "    18     3.155444e-30              NaN\n",
      "    19     0.000000e+00              NaN\n",
      "    20     0.000000e+00              NaN\n",
      "    21     0.000000e+00              NaN\n"
     ]
    },
    {
     "data": {
      "text/plain": [
       "Results of Optimization Algorithm\n",
       " * Algorithm: Simulated Annealing\n",
       " * Starting Point: [0.0,0.0]\n",
       " * Minimizer: [4.20415194791409,-4.62728682960778]\n",
       " * Minimum: 0.000000e+00\n",
       " * Iterations: 20\n",
       " * Convergence: false\n",
       "   * |x - x'| ≤ 1.0e-32: false \n",
       "     |x - x'| = NaN \n",
       "   * |f(x) - f(x')| ≤ 1.0e-32 |f(x)|: false\n",
       "     |f(x) - f(x')| = NaN |f(x)|\n",
       "   * |g(x)| ≤ 1.0e-08: false \n",
       "     |g(x)| = NaN \n",
       "   * Stopped by an increasing objective: false\n",
       "   * Reached Maximum Number of Iterations: true\n",
       " * Objective Calls: 21"
      ]
     },
     "execution_count": 48,
     "metadata": {},
     "output_type": "execute_result"
    }
   ],
   "source": [
    "res = optimize(f_opt, zeros(2), SimulatedAnnealing(), Optim.Options(show_trace=true, iterations = 20))"
   ]
  },
  {
   "cell_type": "code",
   "execution_count": 49,
   "metadata": {},
   "outputs": [
    {
     "data": {
      "text/plain": [
       "2-element Array{Float64,1}:\n",
       "  3.58443\n",
       " -1.84813"
      ]
     },
     "execution_count": 49,
     "metadata": {},
     "output_type": "execute_result"
    }
   ],
   "source": [
    "x_opt(Optim.minimizer(res))"
   ]
  },
  {
   "cell_type": "code",
   "execution_count": 51,
   "metadata": {},
   "outputs": [
    {
     "data": {
      "text/plain": [
       "0.0"
      ]
     },
     "execution_count": 51,
     "metadata": {},
     "output_type": "execute_result"
    }
   ],
   "source": [
    "f_opt(Optim.minimizer(res))"
   ]
  },
  {
   "cell_type": "code",
   "execution_count": 52,
   "metadata": {},
   "outputs": [
    {
     "data": {
      "text/plain": [
       "5.406316218969265e-25"
      ]
     },
     "execution_count": 52,
     "metadata": {},
     "output_type": "execute_result"
    }
   ],
   "source": [
    "f_opt(prob.initial_x)"
   ]
  },
  {
   "cell_type": "code",
   "execution_count": null,
   "metadata": {},
   "outputs": [],
   "source": []
  }
 ],
 "metadata": {
  "kernelspec": {
   "display_name": "Julia 0.6.2",
   "language": "julia",
   "name": "julia-0.6"
  },
  "language_info": {
   "file_extension": ".jl",
   "mimetype": "application/julia",
   "name": "julia",
   "version": "0.6.2"
  }
 },
 "nbformat": 4,
 "nbformat_minor": 2
}
